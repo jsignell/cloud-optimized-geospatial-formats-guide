{
 "cells": [
  {
   "cell_type": "markdown",
   "metadata": {},
   "source": [
    "# FlatGeobuf example\n",
    "\n",
    "This notebook will give an overview of how to read and write FlatGeobuf files with GeoPandas, putting an emphasis on cloud-native operations where possible."
   ]
  },
  {
   "cell_type": "markdown",
   "metadata": {},
   "source": [
    "The primary way to interact with FlatGeobuf in Python is via bindings to GDAL, as there is no pure-Python implementation of FlatGeobuf.\n",
    "\n",
    "There are two different Python libraries for interacting between Python and GDAL's vector support: `fiona` and `pyogrio`. Both of these are integrated into [`geopandas.read_file`](https://geopandas.org/en/stable/docs/reference/api/geopandas.read_file.html) via the `engine` keyword, but `pyogrio` is much faster. From `geopandas` version 1.0.0, the default is `pyogrio`. For prior `geopandas` versions, set `engine=\"pyogrio\"` when using `read_file` or [`GeoDataFrame.to_file`](https://geopandas.org/en/stable/docs/reference/api/geopandas.GeoDataFrame.to_file.html) to speed up reading and writing significantly. We also suggest passing `use_arrow=True` when reading for a slight extra speedup (this is not supported when writing).\n",
    "\n",
    "::: {.callout-note}\n",
    "\n",
    "[`fiona`](https://github.com/Toblerity/Fiona) was the default engine for `geopandas.read_file` prior to version 1.0.0. It provides full-featured bindings to GDAL but does not implement _vectorized_ operations. [Vectorization](https://wesmckinney.com/book/numpy-basics#ndarray_binops) refers to operating on whole arrays of data at once rather than operating on individual values using a Python for loop. `fiona`'s non-vectorized approach means that each row of the source file is read individually with Python, and a Python for loop. In contrast, [`pyogrio`](https://github.com/geopandas/pyogrio)'s vectorized implementation reads all rows in C before passing the data to Python, allowing it to achieve vast speedups (up to 40x) over `fiona`.\n",
    "\n",
    "If you're using GDAL version 3.6 or higher (usually the case when using pyogrio), you can pass `use_arrow=True` to `geopandas.read_file` to use `pyogrio`'s support for [GDAL's RFC 86](https://gdal.org/development/rfc/rfc86_column_oriented_api.html), which speeds up data reading even more.\n",
    "\n",
    ":::"
   ]
  },
  {
   "cell_type": "markdown",
   "metadata": {},
   "source": [
    "## Local vs Remote reading\n",
    "\n",
    "The cloud-native vector ecosystem is young and doesn't work as seamlessly as the COG and Zarr for subsetted access. We download data here to demonstrate important concepts but look to update these methods once better datasets and tools are available for working with FlatGeobuf without downloading entire files.\n",
    "\n",
    "At the end of the notebook we have an example with reading via a spatial filter. Keep in mind that using a large spatial filter will cause the read to take a long time.\n"
   ]
  },
  {
   "cell_type": "markdown",
   "metadata": {},
   "source": [
    "## Environment\n",
    "\n",
    "The packages needed for this notebook can be installed with `conda` or `mamba`. Using the [`environment.yml` from this folder](./environment.yml) run:\n",
    "\n",
    "```bash\n",
    "conda create -f environment.yml\n",
    "```\n",
    "\n",
    "or\n",
    "\n",
    "```bash\n",
    "mamba create -f environment.yml\n",
    "```\n",
    "\n",
    "Alternatively, you can install the versions of `pyogrio` and `geopandas` used in this notebook with pip:\n",
    "\n",
    "```bash\n",
    "pip install pyogrio==0.11.0 geopandas==1.0.1\n",
    "```\n",
    "\n",
    "Additionally, to reproduce the comparisons between `fiona` and `pyogrio` below, you would need to install `fiona` separately as well, but if you prefer to only run the (faster) `pyogrio` examples, you can skip the `fiona` install and examples altogether.\n",
    "\n",
    "```bash\n",
    "pip install fiona==1.10.1\n",
    "```"
   ]
  },
  {
   "cell_type": "markdown",
   "metadata": {},
   "source": [
    "## Imports"
   ]
  },
  {
   "cell_type": "code",
   "execution_count": 2,
   "metadata": {},
   "outputs": [],
   "source": [
    "from tempfile import TemporaryDirectory\n",
    "from urllib.request import urlretrieve\n",
    "\n",
    "import geopandas as gpd\n",
    "import pyogrio"
   ]
  },
  {
   "cell_type": "markdown",
   "metadata": {},
   "source": [
    "## Reading from local disk\n",
    "\n",
    "First we'll cover reading FlatGeobuf from local disk storage. As a first example, we'll use the US counties FlatGeobuf data from [this example](https://observablehq.com/@bjornharrtell/streaming-flatgeobuf). This file is only 13 MB in size, which we'll download to cover simple loading from disk."
   ]
  },
  {
   "cell_type": "code",
   "execution_count": 3,
   "metadata": {},
   "outputs": [],
   "source": [
    "# Create a temporary directory in which to save the file\n",
    "tmpdir = TemporaryDirectory()\n",
    "\n",
    "# URL to download\n",
    "url = \"https://flatgeobuf.org/test/data/UScounties.fgb\"\n",
    "\n",
    "# Download, saving the output path\n",
    "local_fgb_path, _ = urlretrieve(url, f\"{tmpdir.name}/countries.fgb\")"
   ]
  },
  {
   "cell_type": "markdown",
   "metadata": {},
   "source": [
    "In each of the cases below, we use `geopandas.read_file` to read the file into a `GeoDataFrame`.\n",
    "\n",
    "First we'll show that reading this file with `engine=\"fiona\"` is slower. Taking an extra 500 milliseconds might not seem like a lot, but this file contains only 3,000 rows, so this difference gets magnified with larger files."
   ]
  },
  {
   "cell_type": "code",
   "execution_count": 4,
   "metadata": {},
   "outputs": [
    {
     "name": "stdout",
     "output_type": "stream",
     "text": [
      "CPU times: user 1.85 s, sys: 34.7 ms, total: 1.88 s\n",
      "Wall time: 2.35 s\n"
     ]
    }
   ],
   "source": [
    "%time gdf = gpd.read_file(local_fgb_path, engine=\"fiona\")"
   ]
  },
  {
   "cell_type": "markdown",
   "metadata": {},
   "source": [
    "Using the (since version 1.0.0 default) `engine=\"pyogrio\"` speeds up loading by 22x here!"
   ]
  },
  {
   "cell_type": "code",
   "execution_count": 5,
   "metadata": {},
   "outputs": [
    {
     "name": "stdout",
     "output_type": "stream",
     "text": [
      "CPU times: user 69.6 ms, sys: 15.9 ms, total: 85.5 ms\n",
      "Wall time: 89.6 ms\n"
     ]
    }
   ],
   "source": [
    "%time gdf = gpd.read_file(local_fgb_path, engine=\"pyogrio\")"
   ]
  },
  {
   "cell_type": "markdown",
   "metadata": {},
   "source": [
    "Using `use_arrow=True` often makes loading slightly faster again! We're now 24x faster than using fiona."
   ]
  },
  {
   "cell_type": "code",
   "execution_count": 6,
   "metadata": {},
   "outputs": [
    {
     "name": "stdout",
     "output_type": "stream",
     "text": [
      "CPU times: user 48 ms, sys: 30.7 ms, total: 78.8 ms\n",
      "Wall time: 118 ms\n"
     ]
    }
   ],
   "source": [
    "%time gdf = gpd.read_file(local_fgb_path, engine=\"pyogrio\", use_arrow=True)"
   ]
  },
  {
   "cell_type": "markdown",
   "metadata": {},
   "source": [
    "## Writing to local disk\n",
    "\n",
    "Similarly, we can use `GeoDataFrame.to_file` to write to a local FlatGeobuf file. As expected, writing can be much faster if you pass `engine=\"pyogrio\"`.\n",
    "\n",
    "By default, this writes a spatial index to the created FlatGeobuf file."
   ]
  },
  {
   "cell_type": "code",
   "execution_count": 7,
   "metadata": {},
   "outputs": [
    {
     "name": "stdout",
     "output_type": "stream",
     "text": [
      "CPU times: user 875 ms, sys: 53.2 ms, total: 928 ms\n",
      "Wall time: 944 ms\n"
     ]
    }
   ],
   "source": [
    "%time gdf.to_file(f\"{tmpdir.name}/out_fiona.fgb\", engine=\"fiona\")"
   ]
  },
  {
   "cell_type": "code",
   "execution_count": 8,
   "metadata": {},
   "outputs": [
    {
     "name": "stdout",
     "output_type": "stream",
     "text": [
      "CPU times: user 62.9 ms, sys: 13.9 ms, total: 76.8 ms\n",
      "Wall time: 76.8 ms\n"
     ]
    }
   ],
   "source": [
    "%time gdf.to_file(f\"{tmpdir.name}/out_pyogrio.fgb\", engine=\"pyogrio\")"
   ]
  },
  {
   "cell_type": "markdown",
   "metadata": {},
   "source": [
    "## Reading from the cloud\n",
    "\n",
    "Knowing how to read and write local files is important, but given that FlatGeobuf is a cloud-optimized format, it's important to be able to read from cloud-hosted files as well.\n",
    "\n",
    "For this example, we'll use the EuroCrops data hosted on Source Cooperative because it has versions of the same data in both FlatGeobuf and GeoParquet format. Hopefully using the same dataset for both the FlatGeobuf and GeoParquet example notebooks will be helpful."
   ]
  },
  {
   "cell_type": "code",
   "execution_count": 9,
   "metadata": {},
   "outputs": [],
   "source": [
    "url = \"https://s3.us-west-2.amazonaws.com/us-west-2.opendata.source.coop/cholmes/eurocrops/unprojected/flatgeobuf/FR_2018_EC21.fgb\""
   ]
  },
  {
   "cell_type": "markdown",
   "metadata": {},
   "source": [
    "Usually when reading from the cloud, you want to filter on some spatial extent. Pyogrio offers a `read_info` function to access many pieces of information about the file:"
   ]
  },
  {
   "cell_type": "code",
   "execution_count": 10,
   "metadata": {},
   "outputs": [
    {
     "data": {
      "text/plain": [
       "{'layer_name': 'FR_2018_EC21',\n",
       " 'crs': 'EPSG:4326',\n",
       " 'encoding': 'UTF-8',\n",
       " 'fields': array(['ID_PARCEL', 'SURF_PARC', 'CODE_CULTU', 'CODE_GROUP', 'CULTURE_D1',\n",
       "        'CULTURE_D2', 'EC_org_n', 'EC_trans_n', 'EC_hcat_n', 'EC_hcat_c'],\n",
       "       dtype=object),\n",
       " 'dtypes': array(['object', 'float64', 'object', 'object', 'object', 'object',\n",
       "        'object', 'object', 'object', 'object'], dtype=object),\n",
       " 'fid_column': '',\n",
       " 'geometry_name': '',\n",
       " 'geometry_type': 'MultiPolygon',\n",
       " 'features': 9517874,\n",
       " 'total_bounds': (-6.047022416643922,\n",
       "  -3.916364769838749,\n",
       "  68.89050422648864,\n",
       "  51.075100624023094),\n",
       " 'driver': 'FlatGeobuf',\n",
       " 'capabilities': {'random_read': True,\n",
       "  'fast_set_next_by_index': False,\n",
       "  'fast_spatial_filter': True,\n",
       "  'fast_feature_count': True,\n",
       "  'fast_total_bounds': True},\n",
       " 'layer_metadata': None,\n",
       " 'dataset_metadata': None}"
      ]
     },
     "execution_count": 10,
     "metadata": {},
     "output_type": "execute_result"
    }
   ],
   "source": [
    "pyogrio.read_info(url)"
   ]
  },
  {
   "cell_type": "markdown",
   "metadata": {},
   "source": [
    "For now we'll hard-code a region around Valence in the south of France, which we know the be within our dataset."
   ]
  },
  {
   "cell_type": "code",
   "execution_count": 11,
   "metadata": {},
   "outputs": [],
   "source": [
    "# The order of bounds is\n",
    "# (min longitude, min latitude, max longitude, max latitude)\n",
    "bounds = (4.301042, 44.822783, 4.410535, 44.877149)"
   ]
  },
  {
   "cell_type": "markdown",
   "metadata": {},
   "source": [
    "We can fetch a dataframe containing only the records in these bounds by passing a `bbox` argument to `read_file`. Note that the Coordinate Reference System of this bounding box **must match** the CRS of the dataset. Here, we know from the output of `read_info` that the CRS of the dataset is EPSG:4326, so we can pass a longitude-latitude bounding box."
   ]
  },
  {
   "cell_type": "code",
   "execution_count": 12,
   "metadata": {},
   "outputs": [
    {
     "name": "stdout",
     "output_type": "stream",
     "text": [
      "CPU times: user 195 ms, sys: 20.6 ms, total: 216 ms\n",
      "Wall time: 2.51 s\n"
     ]
    }
   ],
   "source": [
    "%time crops_gdf = gpd.read_file(url, bbox=bounds, engine=\"fiona\")"
   ]
  },
  {
   "cell_type": "markdown",
   "metadata": {},
   "source": [
    "Passing `engine=\"pyogrio\"` is only slightly faster, which may mean that most of the time is taken up in network requests, not in parsing the actual data into Python."
   ]
  },
  {
   "cell_type": "code",
   "execution_count": 13,
   "metadata": {},
   "outputs": [
    {
     "name": "stdout",
     "output_type": "stream",
     "text": [
      "CPU times: user 26.4 ms, sys: 20 ms, total: 46.4 ms\n",
      "Wall time: 1.91 s\n"
     ]
    }
   ],
   "source": [
    "%time crops_gdf = gpd.read_file(url, bbox=bounds, engine=\"pyogrio\")"
   ]
  },
  {
   "cell_type": "markdown",
   "metadata": {},
   "source": [
    "This gives us a much smaller dataset of only 400 rows (down from 9.5 million rows in the original dataset)."
   ]
  },
  {
   "cell_type": "code",
   "execution_count": 14,
   "metadata": {},
   "outputs": [
    {
     "data": {
      "text/html": [
       "<div>\n",
       "<style scoped>\n",
       "    .dataframe tbody tr th:only-of-type {\n",
       "        vertical-align: middle;\n",
       "    }\n",
       "\n",
       "    .dataframe tbody tr th {\n",
       "        vertical-align: top;\n",
       "    }\n",
       "\n",
       "    .dataframe thead th {\n",
       "        text-align: right;\n",
       "    }\n",
       "</style>\n",
       "<table border=\"1\" class=\"dataframe\">\n",
       "  <thead>\n",
       "    <tr style=\"text-align: right;\">\n",
       "      <th></th>\n",
       "      <th>ID_PARCEL</th>\n",
       "      <th>SURF_PARC</th>\n",
       "      <th>CODE_CULTU</th>\n",
       "      <th>CODE_GROUP</th>\n",
       "      <th>CULTURE_D1</th>\n",
       "      <th>CULTURE_D2</th>\n",
       "      <th>EC_org_n</th>\n",
       "      <th>EC_trans_n</th>\n",
       "      <th>EC_hcat_n</th>\n",
       "      <th>EC_hcat_c</th>\n",
       "      <th>geometry</th>\n",
       "    </tr>\n",
       "  </thead>\n",
       "  <tbody>\n",
       "    <tr>\n",
       "      <th>0</th>\n",
       "      <td>9484573</td>\n",
       "      <td>11.08</td>\n",
       "      <td>SPL</td>\n",
       "      <td>17</td>\n",
       "      <td>None</td>\n",
       "      <td>None</td>\n",
       "      <td>Surface pastorale - ressources fourragères lig...</td>\n",
       "      <td>Pastoral area - predominant woody fodder resou...</td>\n",
       "      <td>other_tree_wood_forest</td>\n",
       "      <td>3306990000</td>\n",
       "      <td>MULTIPOLYGON (((4.41142 44.85441, 4.41145 44.8...</td>\n",
       "    </tr>\n",
       "    <tr>\n",
       "      <th>1</th>\n",
       "      <td>487218</td>\n",
       "      <td>2.53</td>\n",
       "      <td>PPH</td>\n",
       "      <td>18</td>\n",
       "      <td>None</td>\n",
       "      <td>None</td>\n",
       "      <td>Prairie permanente - herbe prédominante (resso...</td>\n",
       "      <td>Permanent pasture - predominantly grass (woody...</td>\n",
       "      <td>pasture_meadow_grassland_grass</td>\n",
       "      <td>3302000000</td>\n",
       "      <td>MULTIPOLYGON (((4.41366 44.85898, 4.41373 44.8...</td>\n",
       "    </tr>\n",
       "    <tr>\n",
       "      <th>2</th>\n",
       "      <td>487224</td>\n",
       "      <td>0.89</td>\n",
       "      <td>CTG</td>\n",
       "      <td>22</td>\n",
       "      <td>None</td>\n",
       "      <td>None</td>\n",
       "      <td>Châtaigne</td>\n",
       "      <td>Chestnut</td>\n",
       "      <td>sweet_chestnuts</td>\n",
       "      <td>3303030500</td>\n",
       "      <td>MULTIPOLYGON (((4.41159 44.85891, 4.41034 44.8...</td>\n",
       "    </tr>\n",
       "    <tr>\n",
       "      <th>3</th>\n",
       "      <td>9484542</td>\n",
       "      <td>1.31</td>\n",
       "      <td>CTG</td>\n",
       "      <td>22</td>\n",
       "      <td>None</td>\n",
       "      <td>None</td>\n",
       "      <td>Châtaigne</td>\n",
       "      <td>Chestnut</td>\n",
       "      <td>sweet_chestnuts</td>\n",
       "      <td>3303030500</td>\n",
       "      <td>MULTIPOLYGON (((4.40904 44.85805, 4.41034 44.8...</td>\n",
       "    </tr>\n",
       "    <tr>\n",
       "      <th>4</th>\n",
       "      <td>487216</td>\n",
       "      <td>1.70</td>\n",
       "      <td>BOP</td>\n",
       "      <td>17</td>\n",
       "      <td>None</td>\n",
       "      <td>None</td>\n",
       "      <td>Bois pâturé</td>\n",
       "      <td>Grazed wood</td>\n",
       "      <td>other_tree_wood_forest</td>\n",
       "      <td>3306990000</td>\n",
       "      <td>MULTIPOLYGON (((4.41135 44.85476, 4.41134 44.8...</td>\n",
       "    </tr>\n",
       "  </tbody>\n",
       "</table>\n",
       "</div>"
      ],
      "text/plain": [
       "  ID_PARCEL  SURF_PARC CODE_CULTU CODE_GROUP CULTURE_D1 CULTURE_D2  \\\n",
       "0   9484573      11.08        SPL         17       None       None   \n",
       "1    487218       2.53        PPH         18       None       None   \n",
       "2    487224       0.89        CTG         22       None       None   \n",
       "3   9484542       1.31        CTG         22       None       None   \n",
       "4    487216       1.70        BOP         17       None       None   \n",
       "\n",
       "                                            EC_org_n  \\\n",
       "0  Surface pastorale - ressources fourragères lig...   \n",
       "1  Prairie permanente - herbe prédominante (resso...   \n",
       "2                                          Châtaigne   \n",
       "3                                          Châtaigne   \n",
       "4                                        Bois pâturé   \n",
       "\n",
       "                                          EC_trans_n  \\\n",
       "0  Pastoral area - predominant woody fodder resou...   \n",
       "1  Permanent pasture - predominantly grass (woody...   \n",
       "2                                           Chestnut   \n",
       "3                                           Chestnut   \n",
       "4                                        Grazed wood   \n",
       "\n",
       "                        EC_hcat_n   EC_hcat_c  \\\n",
       "0          other_tree_wood_forest  3306990000   \n",
       "1  pasture_meadow_grassland_grass  3302000000   \n",
       "2                 sweet_chestnuts  3303030500   \n",
       "3                 sweet_chestnuts  3303030500   \n",
       "4          other_tree_wood_forest  3306990000   \n",
       "\n",
       "                                            geometry  \n",
       "0  MULTIPOLYGON (((4.41142 44.85441, 4.41145 44.8...  \n",
       "1  MULTIPOLYGON (((4.41366 44.85898, 4.41373 44.8...  \n",
       "2  MULTIPOLYGON (((4.41159 44.85891, 4.41034 44.8...  \n",
       "3  MULTIPOLYGON (((4.40904 44.85805, 4.41034 44.8...  \n",
       "4  MULTIPOLYGON (((4.41135 44.85476, 4.41134 44.8...  "
      ]
     },
     "execution_count": 14,
     "metadata": {},
     "output_type": "execute_result"
    }
   ],
   "source": [
    "crops_gdf.head()"
   ]
  },
  {
   "cell_type": "code",
   "execution_count": 15,
   "metadata": {},
   "outputs": [
    {
     "data": {
      "text/plain": [
       "(415, 11)"
      ]
     },
     "execution_count": 15,
     "metadata": {},
     "output_type": "execute_result"
    }
   ],
   "source": [
    "crops_gdf.shape"
   ]
  },
  {
   "cell_type": "markdown",
   "metadata": {},
   "source": [
    "There are other useful keyword arguments to `read_file`. Since we're using the `pyogrio` engine, we can pass specific column names into `read_file`, and only those columns will be parsed. In the case of FlatGeobuf, this doesn't save us much time, because the same amount of data needs to be fetched. (Though if running this cell soon after the previous one, the relevant data will be cached and won't be downloaded again.)"
   ]
  },
  {
   "cell_type": "code",
   "execution_count": 16,
   "metadata": {},
   "outputs": [
    {
     "name": "stdout",
     "output_type": "stream",
     "text": [
      "CPU times: user 12.9 ms, sys: 0 ns, total: 12.9 ms\n",
      "Wall time: 155 ms\n"
     ]
    }
   ],
   "source": [
    "column_names = [\"ID_PARCEL\", \"SURF_PARC\", \"CODE_CULTU\", \"geometry\"]\n",
    "%time crops_gdf = gpd.read_file(url, bbox=bounds, columns=column_names, engine=\"pyogrio\")"
   ]
  },
  {
   "cell_type": "code",
   "execution_count": 17,
   "metadata": {},
   "outputs": [
    {
     "data": {
      "text/html": [
       "<div>\n",
       "<style scoped>\n",
       "    .dataframe tbody tr th:only-of-type {\n",
       "        vertical-align: middle;\n",
       "    }\n",
       "\n",
       "    .dataframe tbody tr th {\n",
       "        vertical-align: top;\n",
       "    }\n",
       "\n",
       "    .dataframe thead th {\n",
       "        text-align: right;\n",
       "    }\n",
       "</style>\n",
       "<table border=\"1\" class=\"dataframe\">\n",
       "  <thead>\n",
       "    <tr style=\"text-align: right;\">\n",
       "      <th></th>\n",
       "      <th>CODE_CULTU</th>\n",
       "      <th>ID_PARCEL</th>\n",
       "      <th>SURF_PARC</th>\n",
       "      <th>geometry</th>\n",
       "    </tr>\n",
       "  </thead>\n",
       "  <tbody>\n",
       "    <tr>\n",
       "      <th>0</th>\n",
       "      <td>SPL</td>\n",
       "      <td>9484573</td>\n",
       "      <td>11.08</td>\n",
       "      <td>MULTIPOLYGON (((4.41142 44.85441, 4.41145 44.8...</td>\n",
       "    </tr>\n",
       "    <tr>\n",
       "      <th>1</th>\n",
       "      <td>PPH</td>\n",
       "      <td>487218</td>\n",
       "      <td>2.53</td>\n",
       "      <td>MULTIPOLYGON (((4.41366 44.85898, 4.41373 44.8...</td>\n",
       "    </tr>\n",
       "    <tr>\n",
       "      <th>2</th>\n",
       "      <td>CTG</td>\n",
       "      <td>487224</td>\n",
       "      <td>0.89</td>\n",
       "      <td>MULTIPOLYGON (((4.41159 44.85891, 4.41034 44.8...</td>\n",
       "    </tr>\n",
       "    <tr>\n",
       "      <th>3</th>\n",
       "      <td>CTG</td>\n",
       "      <td>9484542</td>\n",
       "      <td>1.31</td>\n",
       "      <td>MULTIPOLYGON (((4.40904 44.85805, 4.41034 44.8...</td>\n",
       "    </tr>\n",
       "    <tr>\n",
       "      <th>4</th>\n",
       "      <td>BOP</td>\n",
       "      <td>487216</td>\n",
       "      <td>1.70</td>\n",
       "      <td>MULTIPOLYGON (((4.41135 44.85476, 4.41134 44.8...</td>\n",
       "    </tr>\n",
       "  </tbody>\n",
       "</table>\n",
       "</div>"
      ],
      "text/plain": [
       "  CODE_CULTU ID_PARCEL  SURF_PARC  \\\n",
       "0        SPL   9484573      11.08   \n",
       "1        PPH    487218       2.53   \n",
       "2        CTG    487224       0.89   \n",
       "3        CTG   9484542       1.31   \n",
       "4        BOP    487216       1.70   \n",
       "\n",
       "                                            geometry  \n",
       "0  MULTIPOLYGON (((4.41142 44.85441, 4.41145 44.8...  \n",
       "1  MULTIPOLYGON (((4.41366 44.85898, 4.41373 44.8...  \n",
       "2  MULTIPOLYGON (((4.41159 44.85891, 4.41034 44.8...  \n",
       "3  MULTIPOLYGON (((4.40904 44.85805, 4.41034 44.8...  \n",
       "4  MULTIPOLYGON (((4.41135 44.85476, 4.41134 44.8...  "
      ]
     },
     "execution_count": 17,
     "metadata": {},
     "output_type": "execute_result"
    }
   ],
   "source": [
    "crops_gdf.head()"
   ]
  }
 ],
 "metadata": {
  "kernelspec": {
   "display_name": "Python 3",
   "language": "python",
   "name": "python3"
  },
  "language_info": {
   "codemirror_mode": {
    "name": "ipython",
    "version": 3
   },
   "file_extension": ".py",
   "mimetype": "text/x-python",
   "name": "python",
   "nbconvert_exporter": "python",
   "pygments_lexer": "ipython3",
   "version": "3.13.1"
  },
  "orig_nbformat": 4
 },
 "nbformat": 4,
 "nbformat_minor": 2
}
